{
  "nbformat": 4,
  "nbformat_minor": 0,
  "metadata": {
    "colab": {
      "provenance": []
    },
    "kernelspec": {
      "name": "python3",
      "display_name": "Python 3"
    },
    "language_info": {
      "name": "python"
    }
  },
  "cells": [
    {
      "cell_type": "code",
      "source": [
        "from pyspark.sql import SparkSession\n",
        "from pyspark.sql.functions import regexp_extract\n",
        "from pyspark.sql.functions import regexp_extract, col, when\n",
        "from pyspark.sql import SparkSession\n",
        "from pyspark.ml.feature import StringIndexer, VectorAssembler\n",
        "from pyspark.ml.classification import RandomForestClassifier\n",
        "from pyspark.ml import Pipeline\n",
        "from pyspark.sql.functions import col, when, regexp_extract"
      ],
      "metadata": {
        "id": "0oaVAodolAUt"
      },
      "execution_count": 30,
      "outputs": []
    },
    {
      "cell_type": "code",
      "execution_count": 31,
      "metadata": {
        "colab": {
          "base_uri": "https://localhost:8080/"
        },
        "id": "RbjfVvpyf8bF",
        "outputId": "4a67fb85-654d-4965-8dfb-daf7ba269f55"
      },
      "outputs": [
        {
          "output_type": "stream",
          "name": "stdout",
          "text": [
            "+-------+-------+--------------------+---------------+--------------------+-------------+------------------+------------+------+---------+--------------------+--------------------+\n",
            "|show_id|   type|               title|       director|                cast|      country|        date_added|release_year|rating| duration|           listed_in|         description|\n",
            "+-------+-------+--------------------+---------------+--------------------+-------------+------------------+------------+------+---------+--------------------+--------------------+\n",
            "|     s1|  Movie|Dick Johnson Is Dead|Kirsten Johnson|                NULL|United States|September 25, 2021|        2020| PG-13|   90 min|       Documentaries|As her father nea...|\n",
            "|     s2|TV Show|       Blood & Water|           NULL|Ama Qamata, Khosi...| South Africa|September 24, 2021|        2021| TV-MA|2 Seasons|International TV ...|After crossing pa...|\n",
            "|     s3|TV Show|           Ganglands|Julien Leclercq|Sami Bouajila, Tr...|         NULL|September 24, 2021|        2021| TV-MA| 1 Season|Crime TV Shows, I...|To protect his fa...|\n",
            "|     s4|TV Show|Jailbirds New Orl...|           NULL|                NULL|         NULL|September 24, 2021|        2021| TV-MA| 1 Season|Docuseries, Reali...|Feuds, flirtation...|\n",
            "|     s5|TV Show|        Kota Factory|           NULL|Mayur More, Jiten...|        India|September 24, 2021|        2021| TV-MA|2 Seasons|International TV ...|In a city of coac...|\n",
            "+-------+-------+--------------------+---------------+--------------------+-------------+------------------+------------+------+---------+--------------------+--------------------+\n",
            "only showing top 5 rows\n",
            "\n"
          ]
        }
      ],
      "source": [
        "\n",
        "\n",
        "# Initialize a Spark session\n",
        "spark = SparkSession.builder \\\n",
        "    .appName(\"Netflix Analysis\") \\\n",
        "    .getOrCreate()\n",
        "\n",
        "# Load the dataset into a PySpark DataFrame\n",
        "df_spark = spark.read.csv(\"/content/netflix_titles.csv\", header=True, inferSchema=True)\n",
        "\n",
        "# Show the first few rows to confirm\n",
        "df_spark.show(5)\n"
      ]
    },
    {
      "cell_type": "code",
      "source": [
        "\n",
        "\n",
        "# Extract numeric duration for movies using regular expression\n",
        "df_spark = df_spark.withColumn(\n",
        "    \"duration_minutes\",\n",
        "    when(col(\"type\") == \"Movie\",\n",
        "         regexp_extract(col(\"duration\"), r\"(\\d+)\", 0).cast(\"int\"))\n",
        "    .otherwise(None)\n",
        ")\n",
        "\n",
        "# Show the data with the new column\n",
        "df_spark.select(\"title\", \"type\", \"duration\", \"duration_minutes\").show(5)\n"
      ],
      "metadata": {
        "colab": {
          "base_uri": "https://localhost:8080/"
        },
        "id": "0_OzfZ-1gvOd",
        "outputId": "31323b0f-55e1-4fed-f129-f64f467f3a2d"
      },
      "execution_count": 32,
      "outputs": [
        {
          "output_type": "stream",
          "name": "stdout",
          "text": [
            "+--------------------+-------+---------+----------------+\n",
            "|               title|   type| duration|duration_minutes|\n",
            "+--------------------+-------+---------+----------------+\n",
            "|Dick Johnson Is Dead|  Movie|   90 min|              90|\n",
            "|       Blood & Water|TV Show|2 Seasons|            NULL|\n",
            "|           Ganglands|TV Show| 1 Season|            NULL|\n",
            "|Jailbirds New Orl...|TV Show| 1 Season|            NULL|\n",
            "|        Kota Factory|TV Show|2 Seasons|            NULL|\n",
            "+--------------------+-------+---------+----------------+\n",
            "only showing top 5 rows\n",
            "\n"
          ]
        }
      ]
    },
    {
      "cell_type": "code",
      "source": [
        "# Remove duplicates\n",
        "df_spark = df_spark.dropDuplicates()\n",
        "\n",
        "# Handle missing values (e.g., drop rows where essential columns are missing)\n",
        "df_spark = df_spark.dropna(subset=[\"title\", \"type\"])\n",
        "\n",
        "# Extract duration (for movies) in minutes using regular expression\n",
        "df_spark = df_spark.withColumn(\n",
        "    \"duration_minutes\",\n",
        "    when(col(\"type\") == \"Movie\",\n",
        "         regexp_extract(col(\"duration\"), r\"(\\d+)\", 0).cast(\"int\"))\n",
        "    .otherwise(None)\n",
        ")\n",
        "\n",
        "# Show the data with the new column\n",
        "df_spark.select(\"title\", \"type\", \"duration\", \"duration_minutes\").show(5)\n"
      ],
      "metadata": {
        "colab": {
          "base_uri": "https://localhost:8080/"
        },
        "id": "aogIGsYPf-uG",
        "outputId": "1cf2219f-bfc2-41fd-d3af-e026146c6c21"
      },
      "execution_count": 33,
      "outputs": [
        {
          "output_type": "stream",
          "name": "stdout",
          "text": [
            "+--------------------+-----+--------+----------------+\n",
            "|               title| type|duration|duration_minutes|\n",
            "+--------------------+-----+--------+----------------+\n",
            "|The Haunting in C...|Movie| 101 min|             101|\n",
            "|What Dreams May Come|Movie| 114 min|             114|\n",
            "|        Blue Miracle|Movie|  97 min|              97|\n",
            "|   Playing for Keeps|Movie| 106 min|             106|\n",
            "|     Phir Hera Pheri|Movie| 150 min|             150|\n",
            "+--------------------+-----+--------+----------------+\n",
            "only showing top 5 rows\n",
            "\n"
          ]
        }
      ]
    },
    {
      "cell_type": "code",
      "source": [
        "# Use VectorAssembler with handleInvalid=\"skip\"\n",
        "assembler = VectorAssembler(\n",
        "    inputCols=[\"release_year\", \"rating_index\"],\n",
        "    outputCol=\"features\",\n",
        "    handleInvalid=\"skip\"  # Skips rows with null values in the feature columns\n",
        ")\n"
      ],
      "metadata": {
        "id": "9q1Y6daoiFsm"
      },
      "execution_count": 34,
      "outputs": []
    },
    {
      "cell_type": "code",
      "source": [
        "# Initialize Spark session\n",
        "spark = SparkSession.builder \\\n",
        "    .appName(\"Netflix Classification\") \\\n",
        "    .getOrCreate()\n",
        "\n",
        "# Dataset testing)\n",
        "data = [\n",
        "    (\"s1\", \"Movie\", \"Dick Johnson Is Dead\", \"Kirsten Johnson\", \"United States\", 2020, \"PG-13\", \"90 min\"),\n",
        "    (\"s2\", \"TV Show\", \"Blood & Water\", None, \"South Africa\", 2021, \"TV-MA\", \"2 Seasons\"),\n",
        "    (\"s3\", \"TV Show\", \"Ganglands\", \"Julien Leclercq\", \"France\", 2021, \"TV-MA\", \"1 Season\"),\n",
        "    (\"s4\", \"TV Show\", \"Jailbirds New Orleans\", None, \"United States\", 2021, \"TV-MA\", \"1 Season\"),\n",
        "    (\"s5\", \"TV Show\", \"Kota Factory\", None, \"India\", 2021, \"TV-MA\", \"2 Seasons\")\n",
        "]\n",
        "\n",
        "# Create DataFrame\n",
        "columns = [\"show_id\", \"type\", \"title\", \"director\", \"country\", \"release_year\", \"rating\", \"duration\"]\n",
        "df_spark = spark.createDataFrame(data, columns)\n",
        "\n",
        "# Convert 'release_year' to integer and 'duration' to minutes\n",
        "df_spark = df_spark.withColumn(\"release_year\", col(\"release_year\").cast(\"int\"))\n",
        "df_spark = df_spark.withColumn(\"duration_minutes\",\n",
        "                               when(col(\"duration\").rlike(r\"(\\d+) min\"),\n",
        "                                    regexp_extract(col(\"duration\"), r\"(\\d+)\", 0).cast(\"int\"))\n",
        "                               .otherwise(None))\n",
        "\n",
        "# Drop rows with NULL values in 'release_year' and 'rating' (just a simple cleanup)\n",
        "df_spark = df_spark.dropna(subset=[\"release_year\", \"rating\"])\n",
        "\n",
        "# Index the 'type' column (Movie vs TV Show) to convert it into a numeric value\n",
        "indexer = StringIndexer(inputCol=\"type\", outputCol=\"type_index\")\n",
        "\n",
        "# Index the 'rating' column to convert categorical ratings to numeric values (handle nulls)\n",
        "rating_indexer = StringIndexer(inputCol=\"rating\", outputCol=\"rating_index\", handleInvalid=\"skip\")\n",
        "\n",
        "# Assemble features: we'll use 'release_year' and 'rating_index' as features for classification\n",
        "assembler = VectorAssembler(inputCols=[\"release_year\", \"rating_index\"], outputCol=\"features\", handleInvalid=\"skip\")\n",
        "\n",
        "# RandomForestClassifier for classification\n",
        "rf = RandomForestClassifier(labelCol=\"type_index\", featuresCol=\"features\")\n",
        "\n",
        "# Set up the pipeline with the transformations\n",
        "pipeline = Pipeline(stages=[rating_indexer, indexer, assembler, rf])\n",
        "\n",
        "# Split the data into training and test sets\n",
        "train_data, test_data = df_spark.randomSplit([0.8, 0.2], seed=1234)\n",
        "\n",
        "# Fit the model\n",
        "model = pipeline.fit(train_data)\n",
        "\n",
        "# Make predictions\n",
        "predictions = model.transform(test_data)\n",
        "\n",
        "# Create a mapping for predictions to human-readable labels\n",
        "predictions = predictions.withColumn(\"predicted_type\",\n",
        "                                     when(col(\"prediction\") == 0.0, \"TV Show\")\n",
        "                                     .when(col(\"prediction\") == 1.0, \"Movie\")\n",
        "                                     .otherwise(\"Unknown\"))\n",
        "\n",
        "# Show the predictions with the human-readable labels\n",
        "predictions.select(\"title\", \"type\", \"predicted_type\").show(5)\n"
      ],
      "metadata": {
        "colab": {
          "base_uri": "https://localhost:8080/"
        },
        "id": "SsfNgW-oiOsv",
        "outputId": "876d47e0-9deb-45e9-883c-0806f2139acf"
      },
      "execution_count": 35,
      "outputs": [
        {
          "output_type": "stream",
          "name": "stdout",
          "text": [
            "+-------------+-------+--------------+\n",
            "|        title|   type|predicted_type|\n",
            "+-------------+-------+--------------+\n",
            "|Blood & Water|TV Show|       TV Show|\n",
            "+-------------+-------+--------------+\n",
            "\n"
          ]
        }
      ]
    }
  ]
}